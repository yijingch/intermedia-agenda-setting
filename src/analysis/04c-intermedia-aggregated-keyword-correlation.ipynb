{
 "cells": [
  {
   "cell_type": "code",
   "execution_count": 1,
   "metadata": {},
   "outputs": [
    {
     "name": "stderr",
     "output_type": "stream",
     "text": [
      "[nltk_data] Downloading package omw-1.4 to\n",
      "[nltk_data]     /Users/yijingch/nltk_data...\n",
      "[nltk_data]   Package omw-1.4 is already up-to-date!\n",
      "[nltk_data] Downloading package punkt to /Users/yijingch/nltk_data...\n",
      "[nltk_data]   Package punkt is already up-to-date!\n"
     ]
    },
    {
     "name": "stdout",
     "output_type": "stream",
     "text": [
      "INPUT_FPATH==/Users/yijingch/Documents/GITHUB/intermedia-agenda-setting/output/sum-wordvec-min2-gtm1/\n",
      "OUTPUT_FPATH==/Users/yijingch/Documents/GITHUB/intermedia-agenda-setting/output/figs/\n"
     ]
    }
   ],
   "source": [
    "import os \n",
    "import pandas as pd\n",
    "import numpy as np\n",
    "\n",
    "from src.utils.dict_loader import TopicDictionary\n",
    "from src.utils.output_loader import load_all_topvecs, load_all_bstr_arrs, load_all_sum_vectors\n",
    "from src.utils.downstream_aggregate import normalize\n",
    "\n",
    "import matplotlib.pyplot as plt\n",
    "import matplotlib_inline.backend_inline\n",
    "matplotlib_inline.backend_inline.set_matplotlib_formats(\"retina\")\n",
    "\n",
    "import yaml\n",
    "with open(\"../../src/configs.yml\", \"r\") as configs:\n",
    "    configs = yaml.safe_load(configs)\n",
    "\n",
    "ROOTPATH = configs[\"ROOTPATH\"]\n",
    "\n",
    "START2016 = pd.to_datetime(configs[\"START2016\"])\n",
    "END2016 = pd.to_datetime(configs[\"END2016\"])\n",
    "START2020 = pd.to_datetime(configs[\"START2020\"])\n",
    "END2020 = pd.to_datetime(configs[\"END2020\"])\n",
    "\n",
    "INPUT_FPATH = configs[\"SUM_WORDVEC_PATH\"]\n",
    "print(f\"INPUT_FPATH=={INPUT_FPATH}\")\n",
    "\n",
    "OUTPUT_FPATH = ROOTPATH + \"output/figs/\"\n",
    "if not os.path.exists(OUTPUT_FPATH): os.mkdir(OUTPUT_FPATH)\n",
    "print(f\"OUTPUT_FPATH=={OUTPUT_FPATH}\")"
   ]
  },
  {
   "cell_type": "code",
   "execution_count": 2,
   "metadata": {},
   "outputs": [
    {
     "name": "stdout",
     "output_type": "stream",
     "text": [
      "Successfully loaded dictionary!\n",
      "\t# of unique topics: 27\n",
      "\t# of unique words: 1426\n",
      "Successfully loaded dictionary!\n",
      "\t# of unique topics: 27\n",
      "\t# of unique words: 1453\n"
     ]
    }
   ],
   "source": [
    "from src.utils.dict_configuration import dictionary2016, dictionary2020"
   ]
  },
  {
   "cell_type": "code",
   "execution_count": 3,
   "metadata": {},
   "outputs": [],
   "source": [
    "sum_wordvecs2016 = load_all_sum_vectors(year=2016, sumvec_fpath=INPUT_FPATH, vector_type=\"wordvecs\")\n",
    "sum_wordvecs2020 = load_all_sum_vectors(year=2020, sumvec_fpath=INPUT_FPATH, vector_type=\"wordvecs\")\n",
    "\n",
    "bstr_sum_wordvecs2016 = load_all_sum_vectors(year=2016, sumvec_fpath=INPUT_FPATH, vector_type=\"wordvecs\", load_bstr=True)\n",
    "bstr_sum_wordvecs2020 = load_all_sum_vectors(year=2020, sumvec_fpath=INPUT_FPATH, vector_type=\"wordvecs\", load_bstr=True)"
   ]
  },
  {
   "cell_type": "code",
   "execution_count": 4,
   "metadata": {},
   "outputs": [
    {
     "name": "stdout",
     "output_type": "stream",
     "text": [
      "2016\n",
      "# of words retained cand1: 500\n",
      "# of words retained cand2: 500\n",
      "# of words dropped cand1: 926\n",
      "# of words dropped cand2: 926\n",
      "2020\n",
      "# of words retained cand1: 500\n",
      "# of words retained cand2: 500\n",
      "# of words dropped cand1: 953\n",
      "# of words dropped cand2: 953\n"
     ]
    }
   ],
   "source": [
    "# get rare words\n",
    "N_TOP_WORDS = 500\n",
    "TOP_WORDS1_2016 = np.argsort(-sum_wordvecs2016[\"headline\"][0][0])[:N_TOP_WORDS]\n",
    "TOP_WORDS2_2016 = np.argsort(-sum_wordvecs2016[\"headline\"][1][0])[:N_TOP_WORDS]\n",
    "\n",
    "TOP_WORDS1_2020 = np.argsort(-sum_wordvecs2020[\"headline\"][0][0])[:N_TOP_WORDS]\n",
    "TOP_WORDS2_2020 = np.argsort(-sum_wordvecs2020[\"headline\"][1][0])[:N_TOP_WORDS]\n",
    "\n",
    "WORDS2DROP_IDX1_2016 = list(set(range(dictionary2016.n_words)) - set(TOP_WORDS1_2016))\n",
    "WORDS2DROP_IDX2_2016 = list(set(range(dictionary2016.n_words)) - set(TOP_WORDS2_2016))\n",
    "WORDS2DROP_IDX1_2020 = list(set(range(dictionary2020.n_words)) - set(TOP_WORDS1_2020))\n",
    "WORDS2DROP_IDX2_2020 = list(set(range(dictionary2020.n_words)) - set(TOP_WORDS2_2020))\n",
    "\n",
    "print(\"2016\")\n",
    "print(\"# of words retained cand1:\", len(TOP_WORDS1_2016))\n",
    "print(\"# of words retained cand2:\", len(TOP_WORDS2_2016))\n",
    "\n",
    "print(\"# of words dropped cand1:\", len(WORDS2DROP_IDX1_2016))\n",
    "print(\"# of words dropped cand2:\", len(WORDS2DROP_IDX2_2016))\n",
    "\n",
    "print(\"2020\")\n",
    "print(\"# of words retained cand1:\", len(TOP_WORDS1_2020))\n",
    "print(\"# of words retained cand2:\", len(TOP_WORDS2_2020))\n",
    "\n",
    "print(\"# of words dropped cand1:\", len(WORDS2DROP_IDX1_2020))\n",
    "print(\"# of words dropped cand2:\", len(WORDS2DROP_IDX2_2020))"
   ]
  },
  {
   "cell_type": "code",
   "execution_count": 5,
   "metadata": {},
   "outputs": [],
   "source": [
    "COLORMAP = {\n",
    "    \"low-cred\": \"#E55807\",\n",
    "    \"traditional\": \"#445069\",\n",
    "    \"left\": \"#4A55A2\",\n",
    "    \"right\": \"#B31312\", \n",
    "    \"DEM\": \"#4A55A2\",\n",
    "    \"REP\": \"#B31312\", \n",
    "}"
   ]
  },
  {
   "cell_type": "code",
   "execution_count": 6,
   "metadata": {},
   "outputs": [],
   "source": [
    "from scipy.stats import pearsonr, spearmanr, kendalltau\n",
    "\n",
    "def normalize(arr, smooth=0):\n",
    "    return (np.array(arr)+smooth)/np.sum(np.array(arr)+smooth)\n",
    "\n",
    "def get_correlation(arr1, arr2, idx2drop=[], corr_func=pearsonr):\n",
    "    if len(idx2drop) > 0:\n",
    "        arr1_clean = np.delete(arr1, idx2drop)\n",
    "        arr2_clean = np.delete(arr2, idx2drop)\n",
    "    else:\n",
    "        arr1_clean = arr1\n",
    "        arr2_clean = arr2\n",
    "    arr1_clean = normalize(arr1_clean)\n",
    "    arr2_clean = normalize(arr2_clean)\n",
    "    corr, p = corr_func(arr1_clean, arr2_clean)\n",
    "    return corr, p"
   ]
  },
  {
   "cell_type": "code",
   "execution_count": 7,
   "metadata": {},
   "outputs": [],
   "source": [
    "corr_func = pearsonr \n",
    "corr_cred_cand1_2016, _ = get_correlation(sum_wordvecs2016[\"headline\"][0][1], sum_wordvecs2016[\"headline\"][0][2], \n",
    "                                          idx2drop=WORDS2DROP_IDX1_2016, corr_func=corr_func)\n",
    "corr_cred_cand2_2016, _ = get_correlation(sum_wordvecs2016[\"headline\"][1][1], sum_wordvecs2016[\"headline\"][1][2], \n",
    "                                          idx2drop=WORDS2DROP_IDX2_2016, corr_func=corr_func)\n",
    "corr_ideo_cand1_2016, _ = get_correlation(sum_wordvecs2016[\"headline\"][0][3], sum_wordvecs2016[\"headline\"][0][5], \n",
    "                                          idx2drop=WORDS2DROP_IDX1_2016, corr_func=corr_func)\n",
    "corr_ideo_cand2_2016, _ = get_correlation(sum_wordvecs2016[\"headline\"][1][3], sum_wordvecs2016[\"headline\"][1][5], \n",
    "                                          idx2drop=WORDS2DROP_IDX2_2016, corr_func=corr_func)\n",
    "\n",
    "corr_cred_cand1_2020, _ = get_correlation(sum_wordvecs2020[\"headline\"][0][1], sum_wordvecs2020[\"headline\"][0][2], \n",
    "                                          idx2drop=WORDS2DROP_IDX1_2020, corr_func=corr_func)\n",
    "corr_cred_cand2_2020, _ = get_correlation(sum_wordvecs2020[\"headline\"][1][1], sum_wordvecs2020[\"headline\"][1][2], \n",
    "                                          idx2drop=WORDS2DROP_IDX2_2020, corr_func=corr_func)\n",
    "corr_ideo_cand1_2020, _ = get_correlation(sum_wordvecs2020[\"headline\"][0][3], sum_wordvecs2020[\"headline\"][0][5], \n",
    "                                          idx2drop=WORDS2DROP_IDX1_2020, corr_func=corr_func)\n",
    "corr_ideo_cand2_2020, _ = get_correlation(sum_wordvecs2020[\"headline\"][1][3], sum_wordvecs2020[\"headline\"][1][5], \n",
    "                                          idx2drop=WORDS2DROP_IDX2_2020, corr_func=corr_func)"
   ]
  },
  {
   "cell_type": "code",
   "execution_count": 8,
   "metadata": {},
   "outputs": [],
   "source": [
    "nruns = 200\n",
    "corr_arr_cred1_2016 = np.zeros(nruns)\n",
    "corr_arr_cred2_2016 = np.zeros(nruns)\n",
    "corr_arr_ideo1_2016 = np.zeros(nruns)\n",
    "corr_arr_ideo2_2016 = np.zeros(nruns)\n",
    "\n",
    "corr_arr_cred1_2020 = np.zeros(nruns)\n",
    "corr_arr_cred2_2020 = np.zeros(nruns)\n",
    "corr_arr_ideo1_2020 = np.zeros(nruns)\n",
    "corr_arr_ideo2_2020 = np.zeros(nruns)\n",
    "\n",
    "for r in range(nruns):    \n",
    "    corr_arr_cred1_2016[r], _ = get_correlation(bstr_sum_wordvecs2016[\"headline\"][0][1][r], bstr_sum_wordvecs2016[\"headline\"][0][2][r],\n",
    "                                                idx2drop=WORDS2DROP_IDX1_2016, corr_func=corr_func)\n",
    "    corr_arr_cred2_2016[r], _ = get_correlation(bstr_sum_wordvecs2016[\"headline\"][1][1][r], bstr_sum_wordvecs2016[\"headline\"][1][2][r],\n",
    "                                                idx2drop=WORDS2DROP_IDX2_2016, corr_func=corr_func)\n",
    "    corr_arr_ideo1_2016[r], _ = get_correlation(bstr_sum_wordvecs2016[\"headline\"][0][3][r], bstr_sum_wordvecs2016[\"headline\"][0][5][r],\n",
    "                                                idx2drop=WORDS2DROP_IDX1_2016, corr_func=corr_func)\n",
    "    corr_arr_ideo2_2016[r], _ = get_correlation(bstr_sum_wordvecs2016[\"headline\"][1][3][r], bstr_sum_wordvecs2016[\"headline\"][1][5][r],\n",
    "                                                idx2drop=WORDS2DROP_IDX2_2016, corr_func=corr_func)\n",
    "    \n",
    "    corr_arr_cred1_2020[r], _ = get_correlation(bstr_sum_wordvecs2020[\"headline\"][0][1][r], bstr_sum_wordvecs2020[\"headline\"][0][2][r],\n",
    "                                                idx2drop=WORDS2DROP_IDX1_2020, corr_func=corr_func)\n",
    "    corr_arr_cred2_2020[r], _ = get_correlation(bstr_sum_wordvecs2020[\"headline\"][1][1][r], bstr_sum_wordvecs2020[\"headline\"][1][2][r],\n",
    "                                                idx2drop=WORDS2DROP_IDX2_2020, corr_func=corr_func)\n",
    "    corr_arr_ideo1_2020[r], _ = get_correlation(bstr_sum_wordvecs2020[\"headline\"][0][3][r], bstr_sum_wordvecs2020[\"headline\"][0][5][r],\n",
    "                                                idx2drop=WORDS2DROP_IDX1_2020, corr_func=corr_func)\n",
    "    corr_arr_ideo2_2020[r], _ = get_correlation(bstr_sum_wordvecs2020[\"headline\"][1][3][r], bstr_sum_wordvecs2020[\"headline\"][1][5][r],\n",
    "                                                idx2drop=WORDS2DROP_IDX2_2020, corr_func=corr_func)\n",
    "    \n",
    "corr_bot_cred1_2016 = np.percentile(corr_arr_cred1_2016, q=5)\n",
    "corr_bot_cred2_2016 = np.percentile(corr_arr_cred2_2016, q=5)\n",
    "corr_bot_ideo1_2016 = np.percentile(corr_arr_ideo1_2016, q=5)\n",
    "corr_bot_ideo2_2016 = np.percentile(corr_arr_ideo2_2016, q=5)\n",
    "\n",
    "corr_bot_cred1_2020 = np.percentile(corr_arr_cred1_2020, q=5)\n",
    "corr_bot_cred2_2020 = np.percentile(corr_arr_cred2_2020, q=5)\n",
    "corr_bot_ideo1_2020 = np.percentile(corr_arr_ideo1_2020, q=5)\n",
    "corr_bot_ideo2_2020 = np.percentile(corr_arr_ideo2_2020, q=5)\n",
    "\n",
    "corr_top_cred1_2016 = np.percentile(corr_arr_cred1_2016, q=95)\n",
    "corr_top_cred2_2016 = np.percentile(corr_arr_cred2_2016, q=95)\n",
    "corr_top_ideo1_2016 = np.percentile(corr_arr_ideo1_2016, q=95)\n",
    "corr_top_ideo2_2016 = np.percentile(corr_arr_ideo2_2016, q=95)\n",
    "\n",
    "corr_top_cred1_2020 = np.percentile(corr_arr_cred1_2020, q=95)\n",
    "corr_top_cred2_2020 = np.percentile(corr_arr_cred2_2020, q=95)\n",
    "corr_top_ideo1_2020 = np.percentile(corr_arr_ideo1_2020, q=95)\n",
    "corr_top_ideo2_2020 = np.percentile(corr_arr_ideo2_2020, q=95)\n",
    "\n",
    "corr_avg_cred1_2016 = np.mean(corr_arr_cred1_2016)\n",
    "corr_avg_cred2_2016 = np.mean(corr_arr_cred2_2016)\n",
    "corr_avg_ideo1_2016 = np.mean(corr_arr_ideo1_2016)\n",
    "corr_avg_ideo2_2016 = np.mean(corr_arr_ideo2_2016)\n",
    "\n",
    "corr_avg_cred1_2020 = np.mean(corr_arr_cred1_2020)\n",
    "corr_avg_cred2_2020 = np.mean(corr_arr_cred2_2020)\n",
    "corr_avg_ideo1_2020 = np.mean(corr_arr_ideo1_2020)\n",
    "corr_avg_ideo2_2020 = np.mean(corr_arr_ideo2_2020)"
   ]
  },
  {
   "cell_type": "code",
   "execution_count": 9,
   "metadata": {},
   "outputs": [
    {
     "data": {
      "image/png": "[encoded data removed]",
      "text/plain": [
       "<Figure size 340x260 with 1 Axes>"
      ]
     },
     "metadata": {
      "image/png": {
       "height": 288,
       "width": 464
      }
     },
     "output_type": "display_data"
    }
   ],
   "source": [
    "TICKS = [\"2016\\nCRED\", \"2020\\nCRED\", \"2016\\nIDEO\", \"2020\\nIDEO\"]\n",
    "\n",
    "# y_rep_cand = np.array([corr_cred_cand1_2016, corr_cred_cand2_2020, corr_ideo_cand1_2016, corr_ideo_cand2_2020])\n",
    "y_rep_cand = np.array([corr_avg_cred1_2016, corr_avg_cred2_2020, corr_avg_ideo1_2016, corr_avg_ideo2_2020])\n",
    "y_rep_cand_top = np.array([corr_top_cred1_2016, corr_top_cred2_2020, corr_top_ideo1_2016, corr_top_ideo2_2020])\n",
    "y_rep_cand_bot = np.array([corr_bot_cred1_2016, corr_bot_cred2_2020, corr_bot_ideo1_2016, corr_bot_ideo2_2020])\n",
    "\n",
    "# y_dem_cand = np.array([corr_cred_cand2_2016, corr_cred_cand1_2020, corr_ideo_cand2_2016, corr_ideo_cand1_2020])\n",
    "y_dem_cand = np.array([corr_avg_cred2_2016, corr_avg_cred1_2020, corr_avg_ideo2_2016, corr_avg_ideo1_2020])\n",
    "y_dem_cand_top = np.array([corr_top_cred2_2016, corr_top_cred1_2020, corr_top_ideo2_2016, corr_top_ideo1_2020])\n",
    "y_dem_cand_bot = np.array([corr_bot_cred2_2016, corr_bot_cred1_2020, corr_bot_ideo2_2016, corr_bot_ideo1_2020])\n",
    "\n",
    "fig,ax = plt.subplots(figsize=(3.4,2.6))\n",
    "diff = 0.14\n",
    "# ax.scatter(range(4), y_rep_cand)\n",
    "# ax.scatter(range(4), y_dem_cand)\n",
    "ax.errorbar(\n",
    "    x=np.arange(4)-diff, y=y_rep_cand, yerr=[y_rep_cand-y_rep_cand_bot, y_rep_cand_top-y_rep_cand], \n",
    "    color=COLORMAP[\"REP\"], marker=\"s\", markersize=5, linestyle=\"\", lw=1.5, capsize=5, capthick=2, label=\"REP cand\")\n",
    "ax.errorbar(\n",
    "    x=np.arange(4)+diff, y=y_dem_cand, yerr=[y_dem_cand-y_dem_cand_bot, y_dem_cand_top-y_dem_cand], \n",
    "    color=COLORMAP[\"DEM\"], marker=\"s\", markersize=5, linestyle=\"\", lw=1.5, capsize=5, capthick=2, label=\"DEM cand\")\n",
    "ax.set_xticks(range(len(TICKS)), TICKS, fontsize=12)\n",
    "ax.axvline(x=1.5, color=\"lightgrey\", linewidth=1)\n",
    "plt.legend(bbox_to_anchor=(1.5, .24))\n",
    "plt.ylim(.4,1.03)\n",
    "ax.set_yticks(ax.get_yticks()[::2])\n",
    "plt.xlim(-.6, 3.6)\n",
    "plt.ylabel(\"Pearson's R\", fontsize=14)\n",
    "plt.title(\"Keyword-level Alignment\", fontsize=14)\n",
    "plt.savefig(OUTPUT_FPATH + \"keyword_alignment.pdf\", dpi=300, bbox_inches=\"tight\")"
   ]
  },
  {
   "cell_type": "code",
   "execution_count": 10,
   "metadata": {},
   "outputs": [
    {
     "data": {
      "text/plain": [
       "array([0.9426897 , 0.54651077, 0.93154113, 0.53005832])"
      ]
     },
     "execution_count": 10,
     "metadata": {},
     "output_type": "execute_result"
    }
   ],
   "source": [
    "y_rep_cand"
   ]
  },
  {
   "cell_type": "code",
   "execution_count": 11,
   "metadata": {},
   "outputs": [
    {
     "data": {
      "text/plain": [
       "array([0.90161993, 0.58792138, 0.90676749, 0.61653919])"
      ]
     },
     "execution_count": 11,
     "metadata": {},
     "output_type": "execute_result"
    }
   ],
   "source": [
    "y_dem_cand"
   ]
  },
  {
   "cell_type": "code",
   "execution_count": 14,
   "metadata": {},
   "outputs": [
    {
     "data": {
      "text/plain": [
       "0.538284545"
      ]
     },
     "execution_count": 14,
     "metadata": {},
     "output_type": "execute_result"
    }
   ],
   "source": [
    "(0.54651077+0.53005832)/2"
   ]
  },
  {
   "cell_type": "code",
   "execution_count": 15,
   "metadata": {},
   "outputs": [
    {
     "data": {
      "text/plain": [
       "0.6022302850000001"
      ]
     },
     "execution_count": 15,
     "metadata": {},
     "output_type": "execute_result"
    }
   ],
   "source": [
    "(0.58792138+0.61653919)/2"
   ]
  },
  {
   "cell_type": "code",
   "execution_count": 16,
   "metadata": {},
   "outputs": [
    {
     "data": {
      "text/plain": [
       "-0.3503971462845821"
      ]
     },
     "execution_count": 16,
     "metadata": {},
     "output_type": "execute_result"
    }
   ],
   "source": [
    "a = y_rep_cand[1]-y_rep_cand[0]\n",
    "b = y_rep_cand[3]-y_rep_cand[2]\n",
    "c = y_dem_cand[1]-y_dem_cand[0]\n",
    "d = y_dem_cand[3]-y_dem_cand[2]\n",
    "np.mean([a,b,c,d])"
   ]
  },
  {
   "cell_type": "code",
   "execution_count": null,
   "metadata": {},
   "outputs": [],
   "source": []
  },
  {
   "cell_type": "code",
   "execution_count": null,
   "metadata": {},
   "outputs": [],
   "source": []
  }
 ],
 "metadata": {
  "kernelspec": {
   "display_name": "ceren-clone",
   "language": "python",
   "name": "python3"
  },
  "language_info": {
   "codemirror_mode": {
    "name": "ipython",
    "version": 3
   },
   "file_extension": ".py",
   "mimetype": "text/x-python",
   "name": "python",
   "nbconvert_exporter": "python",
   "pygments_lexer": "ipython3",
   "version": "3.9.13"
  },
  "orig_nbformat": 4
 },
 "nbformat": 4,
 "nbformat_minor": 2
}
