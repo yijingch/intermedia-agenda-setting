{
 "cells": [
  {
   "cell_type": "markdown",
   "metadata": {},
   "source": [
    "## Select domains to include for downstream analysis"
   ]
  },
  {
   "cell_type": "code",
   "execution_count": 1,
   "metadata": {},
   "outputs": [
    {
     "name": "stderr",
     "output_type": "stream",
     "text": [
      "[nltk_data] Downloading package omw-1.4 to\n",
      "[nltk_data]     /Users/yijingch/nltk_data...\n",
      "[nltk_data]   Package omw-1.4 is already up-to-date!\n",
      "[nltk_data] Downloading package punkt to /Users/yijingch/nltk_data...\n",
      "[nltk_data]   Package punkt is already up-to-date!\n"
     ]
    }
   ],
   "source": [
    "import pandas as pd \n",
    "import numpy as np\n",
    "from src.utils.data_loader import Headlines\n",
    "from src.utils.downstream_process import trim_period\n",
    "\n",
    "import yaml\n",
    "with open(\"../../src/configs.yml\", \"r\") as configs:\n",
    "    configs = yaml.safe_load(configs)\n",
    "\n",
    "DATAPATH = configs[\"DATAPATH\"]\n",
    "START2016 = pd.to_datetime(configs[\"START2016\"])\n",
    "END2016 = pd.to_datetime(configs[\"END2016\"])\n",
    "START2020 = pd.to_datetime(configs[\"START2020\"])\n",
    "END2020 = pd.to_datetime(configs[\"END2020\"])"
   ]
  },
  {
   "cell_type": "markdown",
   "metadata": {},
   "source": [
    "## Load data and labels"
   ]
  },
  {
   "cell_type": "code",
   "execution_count": 2,
   "metadata": {},
   "outputs": [],
   "source": [
    "headlines2016 = pd.read_csv(\"../../data/headline/headlines_2016_all.tsv\", sep=\"\\t\")\n",
    "headlines2020 = pd.read_csv(\"../../data/headline/headlines_2020_all.tsv\", sep=\"\\t\")\n",
    "\n",
    "headlines2016 = trim_period(headlines2016, start=START2016, end=END2016)\n",
    "headlines2020 = trim_period(headlines2020, start=START2020, end=END2020)"
   ]
  },
  {
   "cell_type": "code",
   "execution_count": 3,
   "metadata": {},
   "outputs": [
    {
     "name": "stdout",
     "output_type": "stream",
     "text": [
      "# of unique days\n",
      "\t2016: 152\n",
      "\t2020: 152\n"
     ]
    }
   ],
   "source": [
    "print(\"# of unique days\")\n",
    "print(\"\\t2016:\", headlines2016[\"date\"].nunique())\n",
    "print(\"\\t2020:\", headlines2020[\"date\"].nunique())\n",
    "\n",
    "n_days2016 = headlines2016[\"date\"].nunique()\n",
    "n_days2020 = headlines2020[\"date\"].nunique()\n",
    "\n",
    "# # of unique days\n",
    "# \t2016: 152\n",
    "# \t2020: 152"
   ]
  },
  {
   "cell_type": "code",
   "execution_count": 4,
   "metadata": {},
   "outputs": [],
   "source": [
    "domains2016 = pd.DataFrame()\n",
    "domains2016[\"domain\"] = headlines2016[\"domain\"].unique()\n",
    "domains2020 = pd.DataFrame()\n",
    "domains2020[\"domain\"] = headlines2020[\"domain\"].unique()"
   ]
  },
  {
   "cell_type": "code",
   "execution_count": 5,
   "metadata": {},
   "outputs": [],
   "source": [
    "aggr_domain_date2016 = headlines2016.groupby(\"domain\").agg({\n",
    "    \"date\":lambda x: set(x)}).reset_index()\n",
    "aggr_domain_date2020 = headlines2020.groupby(\"domain\").agg({\n",
    "    \"date\":lambda x: set(x)}).reset_index()"
   ]
  },
  {
   "cell_type": "code",
   "execution_count": 6,
   "metadata": {},
   "outputs": [],
   "source": [
    "aggr_domain_date2016[\"n_coverage\"] = aggr_domain_date2016[\"date\"].map(lambda x: len(x))\n",
    "aggr_domain_date2020[\"n_coverage\"] = aggr_domain_date2020[\"date\"].map(lambda x: len(x))\n",
    "\n",
    "aggr_domain_date2016[\"pct_coverage\"] = aggr_domain_date2016[\"n_coverage\"]/n_days2016\n",
    "aggr_domain_date2020[\"pct_coverage\"] = aggr_domain_date2020[\"n_coverage\"]/n_days2020"
   ]
  },
  {
   "cell_type": "code",
   "execution_count": 7,
   "metadata": {},
   "outputs": [
    {
     "data": {
      "text/html": [
       "<div>\n",
       "<style scoped>\n",
       "    .dataframe tbody tr th:only-of-type {\n",
       "        vertical-align: middle;\n",
       "    }\n",
       "\n",
       "    .dataframe tbody tr th {\n",
       "        vertical-align: top;\n",
       "    }\n",
       "\n",
       "    .dataframe thead th {\n",
       "        text-align: right;\n",
       "    }\n",
       "</style>\n",
       "<table border=\"1\" class=\"dataframe\">\n",
       "  <thead>\n",
       "    <tr style=\"text-align: right;\">\n",
       "      <th></th>\n",
       "      <th>domain</th>\n",
       "      <th>date</th>\n",
       "      <th>n_coverage</th>\n",
       "      <th>pct_coverage</th>\n",
       "    </tr>\n",
       "  </thead>\n",
       "  <tbody>\n",
       "    <tr>\n",
       "      <th>0</th>\n",
       "      <td>100percentfedup.com</td>\n",
       "      <td>{2016-10-24 00:00:00, 2016-10-12 00:00:00, 201...</td>\n",
       "      <td>7</td>\n",
       "      <td>0.046053</td>\n",
       "    </tr>\n",
       "    <tr>\n",
       "      <th>1</th>\n",
       "      <td>1011now.com</td>\n",
       "      <td>{2016-10-11 00:00:00, 2016-07-19 00:00:00, 201...</td>\n",
       "      <td>6</td>\n",
       "      <td>0.039474</td>\n",
       "    </tr>\n",
       "    <tr>\n",
       "      <th>2</th>\n",
       "      <td>10news.com</td>\n",
       "      <td>{2016-10-17 00:00:00}</td>\n",
       "      <td>1</td>\n",
       "      <td>0.006579</td>\n",
       "    </tr>\n",
       "    <tr>\n",
       "      <th>3</th>\n",
       "      <td>10tv.com</td>\n",
       "      <td>{2016-11-13 00:00:00, 2016-11-22 00:00:00, 201...</td>\n",
       "      <td>77</td>\n",
       "      <td>0.506579</td>\n",
       "    </tr>\n",
       "    <tr>\n",
       "      <th>4</th>\n",
       "      <td>11thhouronline.com</td>\n",
       "      <td>{2016-07-19 00:00:00, 2016-11-28 00:00:00, 201...</td>\n",
       "      <td>3</td>\n",
       "      <td>0.019737</td>\n",
       "    </tr>\n",
       "    <tr>\n",
       "      <th>...</th>\n",
       "      <td>...</td>\n",
       "      <td>...</td>\n",
       "      <td>...</td>\n",
       "      <td>...</td>\n",
       "    </tr>\n",
       "    <tr>\n",
       "      <th>4975</th>\n",
       "      <td>zdnet.com</td>\n",
       "      <td>{2016-11-13 00:00:00, 2016-09-14 00:00:00, 201...</td>\n",
       "      <td>47</td>\n",
       "      <td>0.309211</td>\n",
       "    </tr>\n",
       "    <tr>\n",
       "      <th>4976</th>\n",
       "      <td>zerohedge.com</td>\n",
       "      <td>{2016-11-13 00:00:00, 2016-08-25 00:00:00, 201...</td>\n",
       "      <td>137</td>\n",
       "      <td>0.901316</td>\n",
       "    </tr>\n",
       "    <tr>\n",
       "      <th>4977</th>\n",
       "      <td>zip06.com</td>\n",
       "      <td>{2016-11-13 00:00:00, 2016-08-21 00:00:00, 201...</td>\n",
       "      <td>12</td>\n",
       "      <td>0.078947</td>\n",
       "    </tr>\n",
       "    <tr>\n",
       "      <th>4978</th>\n",
       "      <td>zmescience.com</td>\n",
       "      <td>{2016-11-13 00:00:00, 2016-11-15 00:00:00, 201...</td>\n",
       "      <td>14</td>\n",
       "      <td>0.092105</td>\n",
       "    </tr>\n",
       "    <tr>\n",
       "      <th>4979</th>\n",
       "      <td>zougla.gr</td>\n",
       "      <td>{2016-11-13 00:00:00, 2016-10-11 00:00:00, 201...</td>\n",
       "      <td>7</td>\n",
       "      <td>0.046053</td>\n",
       "    </tr>\n",
       "  </tbody>\n",
       "</table>\n",
       "<p>4980 rows × 4 columns</p>\n",
       "</div>"
      ],
      "text/plain": [
       "                   domain                                               date  \\\n",
       "0     100percentfedup.com  {2016-10-24 00:00:00, 2016-10-12 00:00:00, 201...   \n",
       "1             1011now.com  {2016-10-11 00:00:00, 2016-07-19 00:00:00, 201...   \n",
       "2              10news.com                              {2016-10-17 00:00:00}   \n",
       "3                10tv.com  {2016-11-13 00:00:00, 2016-11-22 00:00:00, 201...   \n",
       "4      11thhouronline.com  {2016-07-19 00:00:00, 2016-11-28 00:00:00, 201...   \n",
       "...                   ...                                                ...   \n",
       "4975            zdnet.com  {2016-11-13 00:00:00, 2016-09-14 00:00:00, 201...   \n",
       "4976        zerohedge.com  {2016-11-13 00:00:00, 2016-08-25 00:00:00, 201...   \n",
       "4977            zip06.com  {2016-11-13 00:00:00, 2016-08-21 00:00:00, 201...   \n",
       "4978       zmescience.com  {2016-11-13 00:00:00, 2016-11-15 00:00:00, 201...   \n",
       "4979            zougla.gr  {2016-11-13 00:00:00, 2016-10-11 00:00:00, 201...   \n",
       "\n",
       "      n_coverage  pct_coverage  \n",
       "0              7      0.046053  \n",
       "1              6      0.039474  \n",
       "2              1      0.006579  \n",
       "3             77      0.506579  \n",
       "4              3      0.019737  \n",
       "...          ...           ...  \n",
       "4975          47      0.309211  \n",
       "4976         137      0.901316  \n",
       "4977          12      0.078947  \n",
       "4978          14      0.092105  \n",
       "4979           7      0.046053  \n",
       "\n",
       "[4980 rows x 4 columns]"
      ]
     },
     "execution_count": 7,
     "metadata": {},
     "output_type": "execute_result"
    }
   ],
   "source": [
    "aggr_domain_date2016"
   ]
  },
  {
   "cell_type": "code",
   "execution_count": 8,
   "metadata": {},
   "outputs": [
    {
     "name": "stdout",
     "output_type": "stream",
     "text": [
      "# of qualified domains:\n",
      "\t2016: 443\n",
      "\t2020: 805\n"
     ]
    }
   ],
   "source": [
    "thres = 0.5\n",
    "keep2016 = aggr_domain_date2016[aggr_domain_date2016[\"pct_coverage\"]>=thres].reset_index().drop(columns=\"index\")\n",
    "keep2020 = aggr_domain_date2020[aggr_domain_date2020[\"pct_coverage\"]>=thres].reset_index().drop(columns=\"index\")\n",
    "\n",
    "print(\"# of qualified domains:\")\n",
    "print(\"\\t2016:\", len(keep2016))\n",
    "print(\"\\t2020:\", len(keep2020))\n",
    "\n",
    "# # of qualified domains:\n",
    "# \t2016: 443\n",
    "# \t2020: 805"
   ]
  },
  {
   "cell_type": "code",
   "execution_count": 9,
   "metadata": {},
   "outputs": [
    {
     "data": {
      "text/html": [
       "<div>\n",
       "<style scoped>\n",
       "    .dataframe tbody tr th:only-of-type {\n",
       "        vertical-align: middle;\n",
       "    }\n",
       "\n",
       "    .dataframe tbody tr th {\n",
       "        vertical-align: top;\n",
       "    }\n",
       "\n",
       "    .dataframe thead th {\n",
       "        text-align: right;\n",
       "    }\n",
       "</style>\n",
       "<table border=\"1\" class=\"dataframe\">\n",
       "  <thead>\n",
       "    <tr style=\"text-align: right;\">\n",
       "      <th></th>\n",
       "      <th>domain</th>\n",
       "      <th>date</th>\n",
       "      <th>n_coverage</th>\n",
       "      <th>pct_coverage</th>\n",
       "    </tr>\n",
       "  </thead>\n",
       "  <tbody>\n",
       "    <tr>\n",
       "      <th>586</th>\n",
       "      <td>rumormillnews.com</td>\n",
       "      <td>{2020-08-12 00:00:00, 2020-08-17 00:00:00, 202...</td>\n",
       "      <td>151</td>\n",
       "      <td>0.993421</td>\n",
       "    </tr>\n",
       "  </tbody>\n",
       "</table>\n",
       "</div>"
      ],
      "text/plain": [
       "                domain                                               date  \\\n",
       "586  rumormillnews.com  {2020-08-12 00:00:00, 2020-08-17 00:00:00, 202...   \n",
       "\n",
       "     n_coverage  pct_coverage  \n",
       "586         151      0.993421  "
      ]
     },
     "execution_count": 9,
     "metadata": {},
     "output_type": "execute_result"
    }
   ],
   "source": [
    "keep2020[keep2020[\"domain\"].str.contains(\"rumormillnews\")]"
   ]
  },
  {
   "cell_type": "code",
   "execution_count": 10,
   "metadata": {},
   "outputs": [],
   "source": [
    "# filter out rumormilllnews\n",
    "domains_to_exclude = [\"rumormillnews.com\"]\n",
    "keep2016 = keep2016[~keep2016[\"domain\"].isin(domains_to_exclude)]\n",
    "keep2020 = keep2020[~keep2020[\"domain\"].isin(domains_to_exclude)]"
   ]
  },
  {
   "cell_type": "code",
   "execution_count": 11,
   "metadata": {},
   "outputs": [
    {
     "data": {
      "text/html": [
       "<div>\n",
       "<style scoped>\n",
       "    .dataframe tbody tr th:only-of-type {\n",
       "        vertical-align: middle;\n",
       "    }\n",
       "\n",
       "    .dataframe tbody tr th {\n",
       "        vertical-align: top;\n",
       "    }\n",
       "\n",
       "    .dataframe thead th {\n",
       "        text-align: right;\n",
       "    }\n",
       "</style>\n",
       "<table border=\"1\" class=\"dataframe\">\n",
       "  <thead>\n",
       "    <tr style=\"text-align: right;\">\n",
       "      <th></th>\n",
       "      <th>domain</th>\n",
       "      <th>date</th>\n",
       "      <th>n_coverage</th>\n",
       "      <th>pct_coverage</th>\n",
       "    </tr>\n",
       "  </thead>\n",
       "  <tbody>\n",
       "  </tbody>\n",
       "</table>\n",
       "</div>"
      ],
      "text/plain": [
       "Empty DataFrame\n",
       "Columns: [domain, date, n_coverage, pct_coverage]\n",
       "Index: []"
      ]
     },
     "execution_count": 11,
     "metadata": {},
     "output_type": "execute_result"
    }
   ],
   "source": [
    "keep2016[keep2016[\"domain\"].str.contains(\"rumormillnews\")]"
   ]
  },
  {
   "cell_type": "code",
   "execution_count": 12,
   "metadata": {},
   "outputs": [],
   "source": [
    "keep2016.to_csv(f\"../../index/domains/domains_to_keep2016_coverage{thres}.csv\", index=False)\n",
    "keep2020.to_csv(f\"../../index/domains/domains_to_keep2020_coverage{thres}.csv\", index=False)"
   ]
  },
  {
   "cell_type": "code",
   "execution_count": null,
   "metadata": {},
   "outputs": [],
   "source": []
  }
 ],
 "metadata": {
  "kernelspec": {
   "display_name": "ceren",
   "language": "python",
   "name": "python3"
  },
  "language_info": {
   "codemirror_mode": {
    "name": "ipython",
    "version": 3
   },
   "file_extension": ".py",
   "mimetype": "text/x-python",
   "name": "python",
   "nbconvert_exporter": "python",
   "pygments_lexer": "ipython3",
   "version": "3.9.13"
  },
  "orig_nbformat": 4
 },
 "nbformat": 4,
 "nbformat_minor": 2
}
